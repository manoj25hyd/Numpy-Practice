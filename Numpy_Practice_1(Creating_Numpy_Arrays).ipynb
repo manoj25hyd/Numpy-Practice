{
  "nbformat": 4,
  "nbformat_minor": 0,
  "metadata": {
    "colab": {
      "name": "Numpy Practice - 1(Creating Numpy Arrays).ipynb",
      "provenance": [],
      "collapsed_sections": [
        "LVUJiLjAPRLf"
      ]
    },
    "kernelspec": {
      "name": "python3",
      "display_name": "Python 3"
    }
  },
  "cells": [
    {
      "cell_type": "markdown",
      "metadata": {
        "id": "f2sWJqPgBcw_"
      },
      "source": [
        "#### Importing Library"
      ]
    },
    {
      "cell_type": "code",
      "metadata": {
        "id": "fb8K_uVYBzbu"
      },
      "source": [
        "import numpy as np"
      ],
      "execution_count": null,
      "outputs": []
    },
    {
      "cell_type": "markdown",
      "metadata": {
        "id": "LskHr5PAB17x"
      },
      "source": [
        "#### Creating an array using \"np.array()\""
      ]
    },
    {
      "cell_type": "code",
      "metadata": {
        "colab": {
          "base_uri": "https://localhost:8080/"
        },
        "id": "Bh458CR_CT45",
        "outputId": "316368c1-779c-4a91-bf8b-4004c40b8f56"
      },
      "source": [
        "# 1-D Array\r\n",
        "arr1 = np.array([1,2,3,4,5,6,7,8,9,10])\r\n",
        "print(arr1)\r\n",
        "print(\"Shape:\", arr1.shape)\r\n",
        "print(\"Dimensions:\", arr1.ndim)"
      ],
      "execution_count": null,
      "outputs": [
        {
          "output_type": "stream",
          "text": [
            "[ 1  2  3  4  5  6  7  8  9 10]\n",
            "Shape: (10,)\n",
            "Dimensions: 1\n"
          ],
          "name": "stdout"
        }
      ]
    },
    {
      "cell_type": "code",
      "metadata": {
        "colab": {
          "base_uri": "https://localhost:8080/"
        },
        "id": "T7MG47JxCg4p",
        "outputId": "290f99b1-dc2b-4a0f-f384-b1aa6893e0c2"
      },
      "source": [
        "# 2-D Array with one row\r\n",
        "arr2 = np.array([[1,2,3,4,5,6,7,8,9,10]])\r\n",
        "print(arr2)\r\n",
        "print(\"Shape:\", arr2.shape)\r\n",
        "print(\"Dimensions:\", arr2.ndim)"
      ],
      "execution_count": null,
      "outputs": [
        {
          "output_type": "stream",
          "text": [
            "[[ 1  2  3  4  5  6  7  8  9 10]]\n",
            "Shape: (1, 10)\n",
            "Dimensions: 2\n"
          ],
          "name": "stdout"
        }
      ]
    },
    {
      "cell_type": "markdown",
      "metadata": {
        "id": "nwZgZZlJDPTj"
      },
      "source": [
        "*   *Here we can see shape is (1,10) which means 2-D Array with 1 Rows and 10 Columns*"
      ]
    },
    {
      "cell_type": "code",
      "metadata": {
        "colab": {
          "base_uri": "https://localhost:8080/"
        },
        "id": "_TEe48WVDssz",
        "outputId": "0b0188c9-d646-4fdc-ec4f-9fa0583abd20"
      },
      "source": [
        "# 2-D Array with more than one row\r\n",
        "arr3 = np.array([[1,2,3,4,5], [6,7,8,9,10]])\r\n",
        "print(arr3)\r\n",
        "print(\"Shape:\", arr3.shape)\r\n",
        "print(\"Dimensions:\", arr3.ndim)"
      ],
      "execution_count": null,
      "outputs": [
        {
          "output_type": "stream",
          "text": [
            "[[ 1  2  3  4  5]\n",
            " [ 6  7  8  9 10]]\n",
            "Shape: (2, 5)\n",
            "Dimensions: 2\n"
          ],
          "name": "stdout"
        }
      ]
    },
    {
      "cell_type": "markdown",
      "metadata": {
        "id": "xc-P4l1JEp_V"
      },
      "source": [
        "*   *Here we can see shape is (2,5) which means 2-D Array with 2 Rows and 5 Columns*"
      ]
    },
    {
      "cell_type": "code",
      "metadata": {
        "colab": {
          "base_uri": "https://localhost:8080/"
        },
        "id": "7lBMlZpnE2Hb",
        "outputId": "c99be70b-eec1-43ea-b3d8-e377659b36ed"
      },
      "source": [
        "# 2-D Array with more than two rows\r\n",
        "arr4 = np.array([[1,2,3,4,5], [6,7,8,9,10], [11,12,13,14,15]])\r\n",
        "print(arr4)\r\n",
        "print(\"Shape:\", arr4.shape)\r\n",
        "print(\"Dimensions:\", arr4.ndim)"
      ],
      "execution_count": null,
      "outputs": [
        {
          "output_type": "stream",
          "text": [
            "[[ 1  2  3  4  5]\n",
            " [ 6  7  8  9 10]\n",
            " [11 12 13 14 15]]\n",
            "Shape: (3, 5)\n",
            "Dimensions: 2\n"
          ],
          "name": "stdout"
        }
      ]
    },
    {
      "cell_type": "markdown",
      "metadata": {
        "id": "FK6auEyEFJHd"
      },
      "source": [
        "*   *Here we can see shape is (3,5) which means 2-D Array with 3 Rows and 5 Columns*"
      ]
    },
    {
      "cell_type": "code",
      "metadata": {
        "colab": {
          "base_uri": "https://localhost:8080/"
        },
        "id": "m9DdNSmZFmw4",
        "outputId": "48052f37-645c-4be6-d480-52b7828fa03f"
      },
      "source": [
        "# 3-D Array with 2 blocks(3rd Dimensions)\r\n",
        "arr5 = np.array([[[1,2,3,4,5], [6,7,8,9,10]], [[11,12,13,14,15], [16,17,18,19,20]]])\r\n",
        "print(arr5)\r\n",
        "print(\"Shape:\", arr5.shape)\r\n",
        "print(\"Dimensions:\", arr5.ndim)"
      ],
      "execution_count": null,
      "outputs": [
        {
          "output_type": "stream",
          "text": [
            "[[[ 1  2  3  4  5]\n",
            "  [ 6  7  8  9 10]]\n",
            "\n",
            " [[11 12 13 14 15]\n",
            "  [16 17 18 19 20]]]\n",
            "Shape: (2, 2, 5)\n",
            "Dimensions: 3\n"
          ],
          "name": "stdout"
        }
      ]
    },
    {
      "cell_type": "markdown",
      "metadata": {
        "id": "lJqB08_jGMLL"
      },
      "source": [
        "*   *Here we can see shape is (2,2,5) which means 3-D Array with 2 blocks of (2,5) shape arrays*"
      ]
    },
    {
      "cell_type": "code",
      "metadata": {
        "colab": {
          "base_uri": "https://localhost:8080/"
        },
        "id": "FfjO1rlDG6l1",
        "outputId": "434f349b-f34f-4ae0-aef6-11f443a95d39"
      },
      "source": [
        "# 3-D Array with 3 blocks(3rd Dimensions)\r\n",
        "arr6 = np.array([[[1,2,3,4,5], [6,7,8,9,10]], [[11,12,13,14,15], [16,17,18,19,20]],[[21,22,23,24,25], [26,27,28,29,30]]])\r\n",
        "print(arr6)\r\n",
        "print(\"Shape:\", arr6.shape)\r\n",
        "print(\"Dimensions:\", arr6.ndim)"
      ],
      "execution_count": null,
      "outputs": [
        {
          "output_type": "stream",
          "text": [
            "[[[ 1  2  3  4  5]\n",
            "  [ 6  7  8  9 10]]\n",
            "\n",
            " [[11 12 13 14 15]\n",
            "  [16 17 18 19 20]]\n",
            "\n",
            " [[21 22 23 24 25]\n",
            "  [26 27 28 29 30]]]\n",
            "Shape: (3, 2, 5)\n",
            "Dimensions: 3\n"
          ],
          "name": "stdout"
        }
      ]
    },
    {
      "cell_type": "markdown",
      "metadata": {
        "id": "-oCNuXL1H-Vr"
      },
      "source": [
        "*   *Here we can see shape is (3,2,5) which means 3-D Array with 3 blocks of (2,5) shape arrays*"
      ]
    },
    {
      "cell_type": "code",
      "metadata": {
        "colab": {
          "base_uri": "https://localhost:8080/"
        },
        "id": "atZA_MGaIk8k",
        "outputId": "c0ee1d04-5305-40ca-dc52-4ec875e41b6c"
      },
      "source": [
        "# 4-D Array\r\n",
        "arr7 = np.array([[[[1,2,3,4,5], [6,7,8,9,10]], [[11,12,13,14,15], [16,17,18,19,20]],[[21,22,23,24,25], [26,27,28,29,30]]],\r\n",
        "                 [[[1,2,3,4,5], [6,7,8,9,10]], [[11,12,13,14,15], [16,17,18,19,20]],[[21,22,23,24,25], [26,27,28,29,30]]]])\r\n",
        "print(arr7)\r\n",
        "print(\"Shape:\", arr7.shape)\r\n",
        "print(\"Dimensions:\", arr7.ndim)"
      ],
      "execution_count": null,
      "outputs": [
        {
          "output_type": "stream",
          "text": [
            "[[[[ 1  2  3  4  5]\n",
            "   [ 6  7  8  9 10]]\n",
            "\n",
            "  [[11 12 13 14 15]\n",
            "   [16 17 18 19 20]]\n",
            "\n",
            "  [[21 22 23 24 25]\n",
            "   [26 27 28 29 30]]]\n",
            "\n",
            "\n",
            " [[[ 1  2  3  4  5]\n",
            "   [ 6  7  8  9 10]]\n",
            "\n",
            "  [[11 12 13 14 15]\n",
            "   [16 17 18 19 20]]\n",
            "\n",
            "  [[21 22 23 24 25]\n",
            "   [26 27 28 29 30]]]]\n",
            "Shape: (2, 3, 2, 5)\n",
            "Dimensions: 4\n"
          ],
          "name": "stdout"
        }
      ]
    },
    {
      "cell_type": "markdown",
      "metadata": {
        "id": "Tq6I-vOfJRg4"
      },
      "source": [
        "*   *Here we can see shape is (2,3,2,5) which means 4-D Array with 2 blocks of (3,2,5) shape arrays*\r\n",
        "\r\n",
        "---\r\n",
        "\r\n",
        "\r\n",
        "\r\n"
      ]
    },
    {
      "cell_type": "markdown",
      "metadata": {
        "id": "YNPNiQuXK9Rf"
      },
      "source": [
        "**size:**\r\n",
        "*  size attribute gives us total number of elements in an array\r\n",
        "*  it can also be calculated by multiplying each all numbers in shape\r\n",
        "*  for example if the shape is (2,3,2,5)\r\n",
        "*  size = 2 x 3 x 2 x 5 = 60"
      ]
    },
    {
      "cell_type": "code",
      "metadata": {
        "colab": {
          "base_uri": "https://localhost:8080/"
        },
        "id": "yCcHuoO3J77B",
        "outputId": "afeed55b-c845-4f61-ad23-88def9d15e99"
      },
      "source": [
        "# 4-D Array\r\n",
        "arr7 = np.array([[[[1,2,3,4,5], [6,7,8,9,10]], [[11,12,13,14,15], [16,17,18,19,20]],[[21,22,23,24,25], [26,27,28,29,30]]],\r\n",
        "                 [[[1,2,3,4,5], [6,7,8,9,10]], [[11,12,13,14,15], [16,17,18,19,20]],[[21,22,23,24,25], [26,27,28,29,30]]]])\r\n",
        "print(arr7)\r\n",
        "print(\"Shape:\", arr7.shape)\r\n",
        "print(\"Dimensions:\", arr7.ndim)\r\n",
        "print(\"Size:\", arr7.size)"
      ],
      "execution_count": null,
      "outputs": [
        {
          "output_type": "stream",
          "text": [
            "[[[[ 1  2  3  4  5]\n",
            "   [ 6  7  8  9 10]]\n",
            "\n",
            "  [[11 12 13 14 15]\n",
            "   [16 17 18 19 20]]\n",
            "\n",
            "  [[21 22 23 24 25]\n",
            "   [26 27 28 29 30]]]\n",
            "\n",
            "\n",
            " [[[ 1  2  3  4  5]\n",
            "   [ 6  7  8  9 10]]\n",
            "\n",
            "  [[11 12 13 14 15]\n",
            "   [16 17 18 19 20]]\n",
            "\n",
            "  [[21 22 23 24 25]\n",
            "   [26 27 28 29 30]]]]\n",
            "Shape: (2, 3, 2, 5)\n",
            "Dimensions: 4\n",
            "Size: 60\n"
          ],
          "name": "stdout"
        }
      ]
    },
    {
      "cell_type": "markdown",
      "metadata": {
        "id": "E53W9t4vKdB8"
      },
      "source": [
        "\r\n",
        "\r\n",
        "---\r\n",
        "\r\n",
        "\r\n",
        "\r\n"
      ]
    },
    {
      "cell_type": "markdown",
      "metadata": {
        "id": "3ADU0IrVMjva"
      },
      "source": [
        "**itemsize:**\r\n",
        "*  itemsize gives us length of one array element in bytes"
      ]
    },
    {
      "cell_type": "code",
      "metadata": {
        "colab": {
          "base_uri": "https://localhost:8080/"
        },
        "id": "swTacYUdNl5p",
        "outputId": "e008cd9d-37d5-4060-9e15-6a1080f16f80"
      },
      "source": [
        "arr1 = np.array([1,2,3,4,5,6,7,8,9,10], dtype = \"int\")\r\n",
        "print(arr1)\r\n",
        "print(\"Shape:\", arr1.shape)\r\n",
        "print(\"Dimensions:\", arr1.ndim)\r\n",
        "print(\"Itemsize:\", arr1.itemsize)"
      ],
      "execution_count": null,
      "outputs": [
        {
          "output_type": "stream",
          "text": [
            "[ 1  2  3  4  5  6  7  8  9 10]\n",
            "Shape: (10,)\n",
            "Dimensions: 1\n",
            "Itemsize: 8\n"
          ],
          "name": "stdout"
        }
      ]
    },
    {
      "cell_type": "code",
      "metadata": {
        "colab": {
          "base_uri": "https://localhost:8080/"
        },
        "id": "Hml94h3HNy7G",
        "outputId": "172415e1-43ce-48c0-8ff7-fca259dea219"
      },
      "source": [
        "arr1 = np.array([1,2,3,4,5,6,7,8,9,10], dtype = \"float\")\r\n",
        "print(arr1)\r\n",
        "print(\"Shape:\", arr1.shape)\r\n",
        "print(\"Dimensions:\", arr1.ndim)\r\n",
        "print(\"Itemsize:\", arr1.itemsize)"
      ],
      "execution_count": null,
      "outputs": [
        {
          "output_type": "stream",
          "text": [
            "[ 1.  2.  3.  4.  5.  6.  7.  8.  9. 10.]\n",
            "Shape: (10,)\n",
            "Dimensions: 1\n",
            "Itemsize: 8\n"
          ],
          "name": "stdout"
        }
      ]
    },
    {
      "cell_type": "code",
      "metadata": {
        "colab": {
          "base_uri": "https://localhost:8080/"
        },
        "id": "ljcpEfQKN2Mv",
        "outputId": "059b18d1-f2df-4bad-a35f-10b64924c294"
      },
      "source": [
        "arr1 = np.array([1,2,3,4,5,6,7,8,9,10], dtype = \"complex\")\r\n",
        "print(arr1)\r\n",
        "print(\"Shape:\", arr1.shape)\r\n",
        "print(\"Dimensions:\", arr1.ndim)\r\n",
        "print(\"Itemsize:\", arr1.itemsize)"
      ],
      "execution_count": null,
      "outputs": [
        {
          "output_type": "stream",
          "text": [
            "[ 1.+0.j  2.+0.j  3.+0.j  4.+0.j  5.+0.j  6.+0.j  7.+0.j  8.+0.j  9.+0.j\n",
            " 10.+0.j]\n",
            "Shape: (10,)\n",
            "Dimensions: 1\n",
            "Itemsize: 16\n"
          ],
          "name": "stdout"
        }
      ]
    },
    {
      "cell_type": "markdown",
      "metadata": {
        "id": "02r8eyEiN6p4"
      },
      "source": [
        "\r\n",
        "\r\n",
        "*   if data type of array elements is integer, itemsize = 8\r\n",
        "*   if data type of array elements is float, itemsize = 8\r\n",
        "*   if data type of array elements is complex, itemsize = 16 \r\n",
        "\r\n"
      ]
    },
    {
      "cell_type": "markdown",
      "metadata": {
        "id": "rVBPfliwOdWf"
      },
      "source": [
        "**.dtype:**\r\n",
        "\r\n",
        "\r\n",
        "*   it gives the data type of array elements.\r\n",
        "\r\n"
      ]
    },
    {
      "cell_type": "code",
      "metadata": {
        "colab": {
          "base_uri": "https://localhost:8080/"
        },
        "id": "6TOTTeb5Oq4E",
        "outputId": "41083a77-daa5-4d89-d641-450634509a45"
      },
      "source": [
        "arr1 = np.array([1,2,3,4,5,6,7,8,9,10], dtype = \"int\")\r\n",
        "print(arr1)\r\n",
        "print(\"Shape:\", arr1.shape)\r\n",
        "print(\"Dimensions:\", arr1.ndim)\r\n",
        "print(\"Data Type:\", arr1.dtype)"
      ],
      "execution_count": null,
      "outputs": [
        {
          "output_type": "stream",
          "text": [
            "[ 1  2  3  4  5  6  7  8  9 10]\n",
            "Shape: (10,)\n",
            "Dimensions: 1\n",
            "Data Type: int64\n"
          ],
          "name": "stdout"
        }
      ]
    },
    {
      "cell_type": "code",
      "metadata": {
        "colab": {
          "base_uri": "https://localhost:8080/"
        },
        "id": "tt9cQeBiPKSR",
        "outputId": "dccd3172-b147-4485-e2eb-8d2c9d48e04e"
      },
      "source": [
        "arr1 = np.array([1,2,3,4,5,6,7,8,9,10], dtype = \"float\")\r\n",
        "print(arr1)\r\n",
        "print(\"Shape:\", arr1.shape)\r\n",
        "print(\"Dimensions:\", arr1.ndim)\r\n",
        "print(\"Data Type:\", arr1.dtype)"
      ],
      "execution_count": null,
      "outputs": [
        {
          "output_type": "stream",
          "text": [
            "[ 1.  2.  3.  4.  5.  6.  7.  8.  9. 10.]\n",
            "Shape: (10,)\n",
            "Dimensions: 1\n",
            "Data Type: float64\n"
          ],
          "name": "stdout"
        }
      ]
    },
    {
      "cell_type": "code",
      "metadata": {
        "colab": {
          "base_uri": "https://localhost:8080/"
        },
        "id": "xVLUSDmIPN0V",
        "outputId": "d836d140-6108-4c5b-c205-75ac16054b59"
      },
      "source": [
        "arr1 = np.array([1,2,3,4,5,6,7,8,9,10], dtype = \"complex\")\r\n",
        "print(arr1)\r\n",
        "print(\"Shape:\", arr1.shape)\r\n",
        "print(\"Dimensions:\", arr1.ndim)\r\n",
        "print(\"Data Type:\", arr1.dtype)"
      ],
      "execution_count": null,
      "outputs": [
        {
          "output_type": "stream",
          "text": [
            "[ 1.+0.j  2.+0.j  3.+0.j  4.+0.j  5.+0.j  6.+0.j  7.+0.j  8.+0.j  9.+0.j\n",
            " 10.+0.j]\n",
            "Shape: (10,)\n",
            "Dimensions: 1\n",
            "Data Type: complex128\n"
          ],
          "name": "stdout"
        }
      ]
    },
    {
      "cell_type": "markdown",
      "metadata": {
        "id": "LVUJiLjAPRLf"
      },
      "source": [
        "#### Creating an array using \"np.ones()\""
      ]
    },
    {
      "cell_type": "code",
      "metadata": {
        "colab": {
          "base_uri": "https://localhost:8080/"
        },
        "id": "OMV3V19FPo0t",
        "outputId": "49169621-2f79-4967-c7a1-74c5046d2c36"
      },
      "source": [
        "# 1-D Array with 10 elements\r\n",
        "arr1 = np.ones(10)\r\n",
        "print(arr1)\r\n",
        "print(\"Shape:\", arr1.shape)\r\n",
        "print(\"Dimensions:\", arr1.ndim)\r\n",
        "print(\"Data Type:\", arr1.dtype)"
      ],
      "execution_count": null,
      "outputs": [
        {
          "output_type": "stream",
          "text": [
            "[1. 1. 1. 1. 1. 1. 1. 1. 1. 1.]\n",
            "Shape: (10,)\n",
            "Dimensions: 1\n",
            "Data Type: float64\n"
          ],
          "name": "stdout"
        }
      ]
    },
    {
      "cell_type": "markdown",
      "metadata": {
        "id": "U3nPc1veQTK9"
      },
      "source": [
        "*Here the default datatype of .ones() is float. we can change it if we want, follow the next step*"
      ]
    },
    {
      "cell_type": "code",
      "metadata": {
        "colab": {
          "base_uri": "https://localhost:8080/"
        },
        "id": "x7TMp8TdP45r",
        "outputId": "97ba52f4-f915-4994-c3c2-865b284ef352"
      },
      "source": [
        "# 1-D Array with 10 elements with integer datatype\r\n",
        "arr1 = np.ones(10, dtype=\"int\")\r\n",
        "print(arr1)\r\n",
        "print(\"Shape:\", arr1.shape)\r\n",
        "print(\"Dimensions:\", arr1.ndim)\r\n",
        "print(\"Data Type:\", arr1.dtype)"
      ],
      "execution_count": null,
      "outputs": [
        {
          "output_type": "stream",
          "text": [
            "[1 1 1 1 1 1 1 1 1 1]\n",
            "Shape: (10,)\n",
            "Dimensions: 1\n",
            "Data Type: int64\n"
          ],
          "name": "stdout"
        }
      ]
    },
    {
      "cell_type": "code",
      "metadata": {
        "colab": {
          "base_uri": "https://localhost:8080/"
        },
        "id": "I4ipU8R8QwlY",
        "outputId": "bf5439ca-7105-4e13-9e75-22855ae0c0a0"
      },
      "source": [
        "# 2-D Array\r\n",
        "arr2 = np.ones((4,5))\r\n",
        "print(arr2)\r\n",
        "print(\"Shape:\", arr2.shape)\r\n",
        "print(\"Dimensions:\", arr2.ndim)\r\n",
        "print(\"Data Type:\", arr2.dtype)"
      ],
      "execution_count": null,
      "outputs": [
        {
          "output_type": "stream",
          "text": [
            "[[1. 1. 1. 1. 1.]\n",
            " [1. 1. 1. 1. 1.]\n",
            " [1. 1. 1. 1. 1.]\n",
            " [1. 1. 1. 1. 1.]]\n",
            "Shape: (4, 5)\n",
            "Dimensions: 2\n",
            "Data Type: float64\n"
          ],
          "name": "stdout"
        }
      ]
    },
    {
      "cell_type": "markdown",
      "metadata": {
        "id": "4qKQkQb0RTft"
      },
      "source": [
        "inside np.ones() we need to give the shape of an array that we want to create."
      ]
    },
    {
      "cell_type": "code",
      "metadata": {
        "colab": {
          "base_uri": "https://localhost:8080/"
        },
        "id": "AI1Ebk5rRFm6",
        "outputId": "86f91df9-26f7-4237-d972-28784d8b41eb"
      },
      "source": [
        "# 3-D Array\r\n",
        "arr3 = np.ones((4,4,5))\r\n",
        "print(arr3)\r\n",
        "print(\"Shape:\", arr3.shape)\r\n",
        "print(\"Dimensions:\", arr3.ndim)\r\n",
        "print(\"Data Type:\", arr3.dtype)"
      ],
      "execution_count": null,
      "outputs": [
        {
          "output_type": "stream",
          "text": [
            "[[[1. 1. 1. 1. 1.]\n",
            "  [1. 1. 1. 1. 1.]\n",
            "  [1. 1. 1. 1. 1.]\n",
            "  [1. 1. 1. 1. 1.]]\n",
            "\n",
            " [[1. 1. 1. 1. 1.]\n",
            "  [1. 1. 1. 1. 1.]\n",
            "  [1. 1. 1. 1. 1.]\n",
            "  [1. 1. 1. 1. 1.]]\n",
            "\n",
            " [[1. 1. 1. 1. 1.]\n",
            "  [1. 1. 1. 1. 1.]\n",
            "  [1. 1. 1. 1. 1.]\n",
            "  [1. 1. 1. 1. 1.]]\n",
            "\n",
            " [[1. 1. 1. 1. 1.]\n",
            "  [1. 1. 1. 1. 1.]\n",
            "  [1. 1. 1. 1. 1.]\n",
            "  [1. 1. 1. 1. 1.]]]\n",
            "Shape: (4, 4, 5)\n",
            "Dimensions: 3\n",
            "Data Type: float64\n"
          ],
          "name": "stdout"
        }
      ]
    },
    {
      "cell_type": "code",
      "metadata": {
        "colab": {
          "base_uri": "https://localhost:8080/"
        },
        "id": "AhJIj0ccRptt",
        "outputId": "1d1ca3dc-8f13-46d5-f6fc-813a5a1d252c"
      },
      "source": [
        "# 4-D Array\r\n",
        "arr4 = np.ones((5,3,2,5))\r\n",
        "print(arr4)\r\n",
        "print(\"Shape:\", arr4.shape)\r\n",
        "print(\"Dimensions:\", arr4.ndim)\r\n",
        "print(\"Data Type:\", arr4.dtype)"
      ],
      "execution_count": null,
      "outputs": [
        {
          "output_type": "stream",
          "text": [
            "[[[[1. 1. 1. 1. 1.]\n",
            "   [1. 1. 1. 1. 1.]]\n",
            "\n",
            "  [[1. 1. 1. 1. 1.]\n",
            "   [1. 1. 1. 1. 1.]]\n",
            "\n",
            "  [[1. 1. 1. 1. 1.]\n",
            "   [1. 1. 1. 1. 1.]]]\n",
            "\n",
            "\n",
            " [[[1. 1. 1. 1. 1.]\n",
            "   [1. 1. 1. 1. 1.]]\n",
            "\n",
            "  [[1. 1. 1. 1. 1.]\n",
            "   [1. 1. 1. 1. 1.]]\n",
            "\n",
            "  [[1. 1. 1. 1. 1.]\n",
            "   [1. 1. 1. 1. 1.]]]\n",
            "\n",
            "\n",
            " [[[1. 1. 1. 1. 1.]\n",
            "   [1. 1. 1. 1. 1.]]\n",
            "\n",
            "  [[1. 1. 1. 1. 1.]\n",
            "   [1. 1. 1. 1. 1.]]\n",
            "\n",
            "  [[1. 1. 1. 1. 1.]\n",
            "   [1. 1. 1. 1. 1.]]]\n",
            "\n",
            "\n",
            " [[[1. 1. 1. 1. 1.]\n",
            "   [1. 1. 1. 1. 1.]]\n",
            "\n",
            "  [[1. 1. 1. 1. 1.]\n",
            "   [1. 1. 1. 1. 1.]]\n",
            "\n",
            "  [[1. 1. 1. 1. 1.]\n",
            "   [1. 1. 1. 1. 1.]]]\n",
            "\n",
            "\n",
            " [[[1. 1. 1. 1. 1.]\n",
            "   [1. 1. 1. 1. 1.]]\n",
            "\n",
            "  [[1. 1. 1. 1. 1.]\n",
            "   [1. 1. 1. 1. 1.]]\n",
            "\n",
            "  [[1. 1. 1. 1. 1.]\n",
            "   [1. 1. 1. 1. 1.]]]]\n",
            "Shape: (5, 3, 2, 5)\n",
            "Dimensions: 4\n",
            "Data Type: float64\n"
          ],
          "name": "stdout"
        }
      ]
    },
    {
      "cell_type": "code",
      "metadata": {
        "colab": {
          "base_uri": "https://localhost:8080/"
        },
        "id": "eBXnjBPaR9_M",
        "outputId": "4e9bb03c-4bf3-438a-d380-010cc82fa4ec"
      },
      "source": [
        "# 5-D Array\r\n",
        "arr5 = np.ones((3,2,3,2,3))\r\n",
        "print(arr5)\r\n",
        "print(\"Shape:\", arr5.shape)\r\n",
        "print(\"Dimensions:\", arr5.ndim)\r\n",
        "print(\"Data Type:\", arr5.dtype)"
      ],
      "execution_count": null,
      "outputs": [
        {
          "output_type": "stream",
          "text": [
            "[[[[[1. 1. 1.]\n",
            "    [1. 1. 1.]]\n",
            "\n",
            "   [[1. 1. 1.]\n",
            "    [1. 1. 1.]]\n",
            "\n",
            "   [[1. 1. 1.]\n",
            "    [1. 1. 1.]]]\n",
            "\n",
            "\n",
            "  [[[1. 1. 1.]\n",
            "    [1. 1. 1.]]\n",
            "\n",
            "   [[1. 1. 1.]\n",
            "    [1. 1. 1.]]\n",
            "\n",
            "   [[1. 1. 1.]\n",
            "    [1. 1. 1.]]]]\n",
            "\n",
            "\n",
            "\n",
            " [[[[1. 1. 1.]\n",
            "    [1. 1. 1.]]\n",
            "\n",
            "   [[1. 1. 1.]\n",
            "    [1. 1. 1.]]\n",
            "\n",
            "   [[1. 1. 1.]\n",
            "    [1. 1. 1.]]]\n",
            "\n",
            "\n",
            "  [[[1. 1. 1.]\n",
            "    [1. 1. 1.]]\n",
            "\n",
            "   [[1. 1. 1.]\n",
            "    [1. 1. 1.]]\n",
            "\n",
            "   [[1. 1. 1.]\n",
            "    [1. 1. 1.]]]]\n",
            "\n",
            "\n",
            "\n",
            " [[[[1. 1. 1.]\n",
            "    [1. 1. 1.]]\n",
            "\n",
            "   [[1. 1. 1.]\n",
            "    [1. 1. 1.]]\n",
            "\n",
            "   [[1. 1. 1.]\n",
            "    [1. 1. 1.]]]\n",
            "\n",
            "\n",
            "  [[[1. 1. 1.]\n",
            "    [1. 1. 1.]]\n",
            "\n",
            "   [[1. 1. 1.]\n",
            "    [1. 1. 1.]]\n",
            "\n",
            "   [[1. 1. 1.]\n",
            "    [1. 1. 1.]]]]]\n",
            "Shape: (3, 2, 3, 2, 3)\n",
            "Dimensions: 5\n",
            "Data Type: float64\n"
          ],
          "name": "stdout"
        }
      ]
    },
    {
      "cell_type": "markdown",
      "metadata": {
        "id": "niO-9Xf1SdvJ"
      },
      "source": [
        "#### Creating an array using \"np.zeros()\""
      ]
    },
    {
      "cell_type": "code",
      "metadata": {
        "colab": {
          "base_uri": "https://localhost:8080/"
        },
        "id": "dmWqEOSYWn-q",
        "outputId": "dc5bfbff-f2b0-4501-e352-a6056ba23f3b"
      },
      "source": [
        "arr1 = np.zeros(10)\r\n",
        "print(arr1)"
      ],
      "execution_count": null,
      "outputs": [
        {
          "output_type": "stream",
          "text": [
            "[0. 0. 0. 0. 0. 0. 0. 0. 0. 0.]\n"
          ],
          "name": "stdout"
        }
      ]
    },
    {
      "cell_type": "markdown",
      "metadata": {
        "id": "_CGSmoeZWubq"
      },
      "source": [
        "np.zeroes() is same as np.ones() only difference is np.zeroes() generates zeroes and np.ones() generates ones"
      ]
    },
    {
      "cell_type": "markdown",
      "metadata": {
        "id": "ZyDmh2b6ejyN"
      },
      "source": [
        "#### Creating an Array using np.eye()\r\n",
        "\r\n",
        "\r\n",
        "*   np.eye() produces an identity matrix\r\n",
        "*   if we give only one argument in eye() then it produces square matrix\r\n",
        "*   for example, if we give like np.eye(5) then it produces identity matrix with shape of (5,5)\r\n",
        "*   if we give like np.eye(4,5) then it produces an identity matrix with shape of (4,5) i.e 4 rows and 5 columns\r\n"
      ]
    },
    {
      "cell_type": "code",
      "metadata": {
        "colab": {
          "base_uri": "https://localhost:8080/"
        },
        "id": "c_JXokZIezMo",
        "outputId": "627486f5-d122-4bfd-98f2-ce393ff2b169"
      },
      "source": [
        "arr1 = np.eye(5)\r\n",
        "print(arr1)\r\n",
        "print(\"Shape:\", arr1.shape)\r\n",
        "print(\"Dimensions:\", arr1.ndim)"
      ],
      "execution_count": null,
      "outputs": [
        {
          "output_type": "stream",
          "text": [
            "[[1. 0. 0. 0. 0.]\n",
            " [0. 1. 0. 0. 0.]\n",
            " [0. 0. 1. 0. 0.]\n",
            " [0. 0. 0. 1. 0.]\n",
            " [0. 0. 0. 0. 1.]]\n",
            "Shape: (5, 5)\n",
            "Dimensions: 2\n"
          ],
          "name": "stdout"
        }
      ]
    },
    {
      "cell_type": "code",
      "metadata": {
        "colab": {
          "base_uri": "https://localhost:8080/"
        },
        "id": "K9_YBVkHfM2-",
        "outputId": "c4772c07-8310-448e-996a-6f8edb746387"
      },
      "source": [
        "arr2 = np.eye(4,5)\r\n",
        "print(arr2)\r\n",
        "print(\"Shape:\", arr2.shape)\r\n",
        "print(\"Dimensions:\", arr2.ndim)"
      ],
      "execution_count": null,
      "outputs": [
        {
          "output_type": "stream",
          "text": [
            "[[1. 0. 0. 0. 0.]\n",
            " [0. 1. 0. 0. 0.]\n",
            " [0. 0. 1. 0. 0.]\n",
            " [0. 0. 0. 1. 0.]]\n",
            "Shape: (4, 5)\n",
            "Dimensions: 2\n"
          ],
          "name": "stdout"
        }
      ]
    },
    {
      "cell_type": "markdown",
      "metadata": {
        "id": "8vJR5PFshDnk"
      },
      "source": [
        "Note: we can only create 2-D array with np.eye()"
      ]
    },
    {
      "cell_type": "code",
      "metadata": {
        "colab": {
          "base_uri": "https://localhost:8080/"
        },
        "id": "Kt-mw2NghVLt",
        "outputId": "53a9c8ab-dc2f-415b-99bd-c597d0e543f5"
      },
      "source": [
        "arr3 = np.eye(5, k=1)\r\n",
        "print(arr3)\r\n",
        "print(\"Shape:\", arr3.shape)\r\n",
        "print(\"Dimensions:\", arr3.ndim)"
      ],
      "execution_count": null,
      "outputs": [
        {
          "output_type": "stream",
          "text": [
            "[[0. 1. 0. 0. 0.]\n",
            " [0. 0. 1. 0. 0.]\n",
            " [0. 0. 0. 1. 0.]\n",
            " [0. 0. 0. 0. 1.]\n",
            " [0. 0. 0. 0. 0.]]\n",
            "Shape: (5, 5)\n",
            "Dimensions: 2\n"
          ],
          "name": "stdout"
        }
      ]
    },
    {
      "cell_type": "markdown",
      "metadata": {
        "id": "U2a16aOTiPPl"
      },
      "source": [
        "*   *if we give k=1 it shifts all the ones 1 row up.*\r\n",
        "*   *if we give k=2 it shifts all the ones 2 rows up. and so on for k = 3,4,5......*"
      ]
    },
    {
      "cell_type": "code",
      "metadata": {
        "colab": {
          "base_uri": "https://localhost:8080/"
        },
        "id": "E14veAWUi1Qd",
        "outputId": "26078140-7934-4178-fe11-65d9f4dc338b"
      },
      "source": [
        "arr4 = np.eye(5, k=2)\r\n",
        "print(arr4)\r\n",
        "print(\"Shape:\", arr4.shape)\r\n",
        "print(\"Dimensions:\", arr4.ndim)"
      ],
      "execution_count": null,
      "outputs": [
        {
          "output_type": "stream",
          "text": [
            "[[0. 0. 1. 0. 0.]\n",
            " [0. 0. 0. 1. 0.]\n",
            " [0. 0. 0. 0. 1.]\n",
            " [0. 0. 0. 0. 0.]\n",
            " [0. 0. 0. 0. 0.]]\n",
            "Shape: (5, 5)\n",
            "Dimensions: 2\n"
          ],
          "name": "stdout"
        }
      ]
    },
    {
      "cell_type": "code",
      "metadata": {
        "colab": {
          "base_uri": "https://localhost:8080/"
        },
        "id": "7WjxXDvfjJZP",
        "outputId": "40680155-f5b1-4e86-eb9b-c74d8929598c"
      },
      "source": [
        "arr5 = np.eye(5, k=-1)\r\n",
        "print(arr5)\r\n",
        "print(\"Shape:\", arr5.shape)\r\n",
        "print(\"Dimensions:\", arr5.ndim)"
      ],
      "execution_count": null,
      "outputs": [
        {
          "output_type": "stream",
          "text": [
            "[[0. 0. 0. 0. 0.]\n",
            " [1. 0. 0. 0. 0.]\n",
            " [0. 1. 0. 0. 0.]\n",
            " [0. 0. 1. 0. 0.]\n",
            " [0. 0. 0. 1. 0.]]\n",
            "Shape: (5, 5)\n",
            "Dimensions: 2\n"
          ],
          "name": "stdout"
        }
      ]
    },
    {
      "cell_type": "markdown",
      "metadata": {
        "id": "F9z5GCKJjaaf"
      },
      "source": [
        "*   *if we give k=-1 it shifts all the ones 1 row up.*\r\n",
        "*   *if we give k=-2 it shifts all the ones 2 rows up. and so on for k = -3,-4,-5......*"
      ]
    },
    {
      "cell_type": "code",
      "metadata": {
        "colab": {
          "base_uri": "https://localhost:8080/"
        },
        "id": "Sg0LK-H5juff",
        "outputId": "417391f6-e631-4d94-fa00-e4184548c660"
      },
      "source": [
        "arr6 = np.eye(5, k=-2)\r\n",
        "print(arr6)\r\n",
        "print(\"Shape:\", arr6.shape)\r\n",
        "print(\"Dimensions:\", arr6.ndim)"
      ],
      "execution_count": null,
      "outputs": [
        {
          "output_type": "stream",
          "text": [
            "[[0. 0. 0. 0. 0.]\n",
            " [0. 0. 0. 0. 0.]\n",
            " [1. 0. 0. 0. 0.]\n",
            " [0. 1. 0. 0. 0.]\n",
            " [0. 0. 1. 0. 0.]]\n",
            "Shape: (5, 5)\n",
            "Dimensions: 2\n"
          ],
          "name": "stdout"
        }
      ]
    },
    {
      "cell_type": "markdown",
      "metadata": {
        "id": "f3uE5NrNj94Z"
      },
      "source": [
        "**Note:** *By default k = 0*"
      ]
    },
    {
      "cell_type": "markdown",
      "metadata": {
        "id": "BbQwzpAzkKj2"
      },
      "source": [
        "#### Creating an array using np.identity()\r\n",
        "\r\n",
        "\r\n",
        "*   np.identity() takes one argument\r\n",
        "*   if we give like np.identity(4) then if creates and identity matrix with shape(4,4)\r\n",
        "\r\n"
      ]
    },
    {
      "cell_type": "code",
      "metadata": {
        "colab": {
          "base_uri": "https://localhost:8080/"
        },
        "id": "AqRNo8-ikiKM",
        "outputId": "657acf2e-d4d9-4dcb-acac-d812d30eb315"
      },
      "source": [
        "arr1 = np.identity(4)\r\n",
        "print(arr1)"
      ],
      "execution_count": null,
      "outputs": [
        {
          "output_type": "stream",
          "text": [
            "[[1. 0. 0. 0.]\n",
            " [0. 1. 0. 0.]\n",
            " [0. 0. 1. 0.]\n",
            " [0. 0. 0. 1.]]\n"
          ],
          "name": "stdout"
        }
      ]
    },
    {
      "cell_type": "markdown",
      "metadata": {
        "id": "zNlNaA9WkvkY"
      },
      "source": [
        "**Note:** difference between eye() and identity()\r\n",
        "*   identity() creates only square matrix where as eye() can create identity matrix with any shape\r\n",
        "*   there is no 'k' attribute in identity() unlike eye()"
      ]
    },
    {
      "cell_type": "code",
      "metadata": {
        "colab": {
          "base_uri": "https://localhost:8080/"
        },
        "id": "hhKR9LQhmE-Y",
        "outputId": "02e61fa8-2b72-4e6e-e1d4-e53e4d09ab9f"
      },
      "source": [
        "arr2 = np.identity(3, dtype = \"int\")\r\n",
        "print(arr2)"
      ],
      "execution_count": null,
      "outputs": [
        {
          "output_type": "stream",
          "text": [
            "[[1 0 0]\n",
            " [0 1 0]\n",
            " [0 0 1]]\n"
          ],
          "name": "stdout"
        }
      ]
    },
    {
      "cell_type": "markdown",
      "metadata": {
        "id": "REF9_86kmQyG"
      },
      "source": [
        "#### Creating an array with np.full()\r\n",
        "*   np.full() creates and array with a given shape and we can give a number that we want to fill the array with.\r\n",
        "*   if takes two arguments shape and a number to fill array with\r\n",
        "*   for example, if we give like np.full((3,4),6), it creates an array with shape (3,4) and with all elements as 6 in it."
      ]
    },
    {
      "cell_type": "code",
      "metadata": {
        "colab": {
          "base_uri": "https://localhost:8080/"
        },
        "id": "1YuT8k17m-iJ",
        "outputId": "a603b19f-eab1-40b0-80b8-5d78e73841b3"
      },
      "source": [
        "# 1-D Array\r\n",
        "arr1 = np.full((10,), 6)\r\n",
        "print(arr1)\r\n",
        "print(\"Shape:\", arr1.shape)\r\n",
        "print(\"Dimensions:\", arr1.ndim)"
      ],
      "execution_count": null,
      "outputs": [
        {
          "output_type": "stream",
          "text": [
            "[6 6 6 6 6 6 6 6 6 6]\n",
            "Shape: (10,)\n",
            "Dimensions: 1\n"
          ],
          "name": "stdout"
        }
      ]
    },
    {
      "cell_type": "code",
      "metadata": {
        "colab": {
          "base_uri": "https://localhost:8080/"
        },
        "id": "XqXgw3RhnXam",
        "outputId": "2b505830-cab9-4251-bd44-a882bc0f57a3"
      },
      "source": [
        "# 2-D Array\r\n",
        "arr2 = np.full((5,4), 2)\r\n",
        "print(arr2)\r\n",
        "print(\"Shape:\", arr2.shape)\r\n",
        "print(\"Dimensions:\", arr2.ndim)"
      ],
      "execution_count": null,
      "outputs": [
        {
          "output_type": "stream",
          "text": [
            "[[2 2 2 2]\n",
            " [2 2 2 2]\n",
            " [2 2 2 2]\n",
            " [2 2 2 2]\n",
            " [2 2 2 2]]\n",
            "Shape: (5, 4)\n",
            "Dimensions: 2\n"
          ],
          "name": "stdout"
        }
      ]
    },
    {
      "cell_type": "code",
      "metadata": {
        "colab": {
          "base_uri": "https://localhost:8080/"
        },
        "id": "7AiltoY_pkr3",
        "outputId": "28ec54fb-6a5d-4e3f-c448-060f423f4b33"
      },
      "source": [
        "# 3-D Array\r\n",
        "arr3 = np.full((4,2,4), 4)\r\n",
        "print(arr3)\r\n",
        "print(\"Shape:\", arr3.shape)\r\n",
        "print(\"Dimensions:\", arr3.ndim)"
      ],
      "execution_count": null,
      "outputs": [
        {
          "output_type": "stream",
          "text": [
            "[[[4 4 4 4]\n",
            "  [4 4 4 4]]\n",
            "\n",
            " [[4 4 4 4]\n",
            "  [4 4 4 4]]\n",
            "\n",
            " [[4 4 4 4]\n",
            "  [4 4 4 4]]\n",
            "\n",
            " [[4 4 4 4]\n",
            "  [4 4 4 4]]]\n",
            "Shape: (4, 2, 4)\n",
            "Dimensions: 3\n"
          ],
          "name": "stdout"
        }
      ]
    },
    {
      "cell_type": "code",
      "metadata": {
        "colab": {
          "base_uri": "https://localhost:8080/"
        },
        "id": "wmeXIVljpu23",
        "outputId": "f522a2c4-d26a-4c1f-c839-6a7d43e0eb1c"
      },
      "source": [
        "# 4-D Array\r\n",
        "arr4 = np.full((3,4,2,4), 4)\r\n",
        "print(arr4)\r\n",
        "print(\"Shape:\", arr4.shape)\r\n",
        "print(\"Dimensions:\", arr4.ndim)"
      ],
      "execution_count": null,
      "outputs": [
        {
          "output_type": "stream",
          "text": [
            "[[[[4 4 4 4]\n",
            "   [4 4 4 4]]\n",
            "\n",
            "  [[4 4 4 4]\n",
            "   [4 4 4 4]]\n",
            "\n",
            "  [[4 4 4 4]\n",
            "   [4 4 4 4]]\n",
            "\n",
            "  [[4 4 4 4]\n",
            "   [4 4 4 4]]]\n",
            "\n",
            "\n",
            " [[[4 4 4 4]\n",
            "   [4 4 4 4]]\n",
            "\n",
            "  [[4 4 4 4]\n",
            "   [4 4 4 4]]\n",
            "\n",
            "  [[4 4 4 4]\n",
            "   [4 4 4 4]]\n",
            "\n",
            "  [[4 4 4 4]\n",
            "   [4 4 4 4]]]\n",
            "\n",
            "\n",
            " [[[4 4 4 4]\n",
            "   [4 4 4 4]]\n",
            "\n",
            "  [[4 4 4 4]\n",
            "   [4 4 4 4]]\n",
            "\n",
            "  [[4 4 4 4]\n",
            "   [4 4 4 4]]\n",
            "\n",
            "  [[4 4 4 4]\n",
            "   [4 4 4 4]]]]\n",
            "Shape: (3, 4, 2, 4)\n",
            "Dimensions: 4\n"
          ],
          "name": "stdout"
        }
      ]
    },
    {
      "cell_type": "markdown",
      "metadata": {
        "id": "d7LHVapdp9_-"
      },
      "source": [
        "#### Creating an array with np.arange()"
      ]
    },
    {
      "cell_type": "code",
      "metadata": {
        "colab": {
          "base_uri": "https://localhost:8080/"
        },
        "id": "zUYMUfj_q2zj",
        "outputId": "7b86fafa-c440-4ab4-aaf3-16897147d60c"
      },
      "source": [
        "arr1 = np.arange(1,10)\r\n",
        "print(arr1)"
      ],
      "execution_count": null,
      "outputs": [
        {
          "output_type": "stream",
          "text": [
            "[1 2 3 4 5 6 7 8 9]\n"
          ],
          "name": "stdout"
        }
      ]
    },
    {
      "cell_type": "code",
      "metadata": {
        "colab": {
          "base_uri": "https://localhost:8080/"
        },
        "id": "3NivbT8kq8uJ",
        "outputId": "4f47ea40-24a9-4a51-b17e-d60f45b2ed91"
      },
      "source": [
        "arr2 = np.arange(50,70)\r\n",
        "print(arr2)"
      ],
      "execution_count": null,
      "outputs": [
        {
          "output_type": "stream",
          "text": [
            "[50 51 52 53 54 55 56 57 58 59 60 61 62 63 64 65 66 67 68 69]\n"
          ],
          "name": "stdout"
        }
      ]
    },
    {
      "cell_type": "code",
      "metadata": {
        "colab": {
          "base_uri": "https://localhost:8080/"
        },
        "id": "dH7dCK67rqWj",
        "outputId": "9e8379e0-df08-4621-8c19-e915ca472328"
      },
      "source": [
        "arr3 = np.arange(20,50,3)\r\n",
        "print(arr3)"
      ],
      "execution_count": null,
      "outputs": [
        {
          "output_type": "stream",
          "text": [
            "[20 23 26 29 32 35 38 41 44 47]\n"
          ],
          "name": "stdout"
        }
      ]
    },
    {
      "cell_type": "code",
      "metadata": {
        "colab": {
          "base_uri": "https://localhost:8080/"
        },
        "id": "gGg4a4iGr_Z2",
        "outputId": "51150afd-3532-4c00-8c03-e83f5ce7d244"
      },
      "source": [
        "arr4 = np.arange(-20,-1, 1)\r\n",
        "print(arr4)"
      ],
      "execution_count": null,
      "outputs": [
        {
          "output_type": "stream",
          "text": [
            "[-20 -19 -18 -17 -16 -15 -14 -13 -12 -11 -10  -9  -8  -7  -6  -5  -4  -3\n",
            "  -2]\n"
          ],
          "name": "stdout"
        }
      ]
    },
    {
      "cell_type": "code",
      "metadata": {
        "colab": {
          "base_uri": "https://localhost:8080/"
        },
        "id": "tOLxiP6ZsS0o",
        "outputId": "3f3a3c97-aafa-48a9-c1ea-f610b638107b"
      },
      "source": [
        "arr5 = np.arange(20, 1, -1)\r\n",
        "print(arr5)"
      ],
      "execution_count": null,
      "outputs": [
        {
          "output_type": "stream",
          "text": [
            "[20 19 18 17 16 15 14 13 12 11 10  9  8  7  6  5  4  3  2]\n"
          ],
          "name": "stdout"
        }
      ]
    },
    {
      "cell_type": "markdown",
      "metadata": {
        "id": "axoRAwrTsZ12"
      },
      "source": [
        "Note: \r\n",
        "*   We can only create 1-D Array with np.arange()\r\n",
        "*   We can also give step as float in arange()"
      ]
    },
    {
      "cell_type": "code",
      "metadata": {
        "colab": {
          "base_uri": "https://localhost:8080/"
        },
        "id": "Q1g3ljZ-smzc",
        "outputId": "a52b6694-8072-495a-ec30-094b6cc43adf"
      },
      "source": [
        "arr6 = np.arange(1,10, 0.5)\r\n",
        "arr6"
      ],
      "execution_count": null,
      "outputs": [
        {
          "output_type": "execute_result",
          "data": {
            "text/plain": [
              "array([1. , 1.5, 2. , 2.5, 3. , 3.5, 4. , 4.5, 5. , 5.5, 6. , 6.5, 7. ,\n",
              "       7.5, 8. , 8.5, 9. , 9.5])"
            ]
          },
          "metadata": {
            "tags": []
          },
          "execution_count": 65
        }
      ]
    },
    {
      "cell_type": "code",
      "metadata": {
        "colab": {
          "base_uri": "https://localhost:8080/"
        },
        "id": "fOpWWArYsygj",
        "outputId": "0ed4b073-5226-42ab-c479-9c0da6538e89"
      },
      "source": [
        "arr7 = np.arange(0.5, 10, 0.25)\r\n",
        "arr7"
      ],
      "execution_count": null,
      "outputs": [
        {
          "output_type": "execute_result",
          "data": {
            "text/plain": [
              "array([0.5 , 0.75, 1.  , 1.25, 1.5 , 1.75, 2.  , 2.25, 2.5 , 2.75, 3.  ,\n",
              "       3.25, 3.5 , 3.75, 4.  , 4.25, 4.5 , 4.75, 5.  , 5.25, 5.5 , 5.75,\n",
              "       6.  , 6.25, 6.5 , 6.75, 7.  , 7.25, 7.5 , 7.75, 8.  , 8.25, 8.5 ,\n",
              "       8.75, 9.  , 9.25, 9.5 , 9.75])"
            ]
          },
          "metadata": {
            "tags": []
          },
          "execution_count": 66
        }
      ]
    },
    {
      "cell_type": "code",
      "metadata": {
        "colab": {
          "base_uri": "https://localhost:8080/"
        },
        "id": "jbspn_nYt2M3",
        "outputId": "647bf0dc-2ee8-4f1d-d599-79009852cfb3"
      },
      "source": [
        "arr7 = np.arange(0.5, 9.25, 0.25)\r\n",
        "arr7"
      ],
      "execution_count": null,
      "outputs": [
        {
          "output_type": "execute_result",
          "data": {
            "text/plain": [
              "array([0.5 , 0.75, 1.  , 1.25, 1.5 , 1.75, 2.  , 2.25, 2.5 , 2.75, 3.  ,\n",
              "       3.25, 3.5 , 3.75, 4.  , 4.25, 4.5 , 4.75, 5.  , 5.25, 5.5 , 5.75,\n",
              "       6.  , 6.25, 6.5 , 6.75, 7.  , 7.25, 7.5 , 7.75, 8.  , 8.25, 8.5 ,\n",
              "       8.75, 9.  ])"
            ]
          },
          "metadata": {
            "tags": []
          },
          "execution_count": 67
        }
      ]
    },
    {
      "cell_type": "markdown",
      "metadata": {
        "id": "ylLBfF6-t8qs"
      },
      "source": [
        "#### Creating an Array with np.linspace()"
      ]
    },
    {
      "cell_type": "code",
      "metadata": {
        "colab": {
          "base_uri": "https://localhost:8080/"
        },
        "id": "r_JULMlwuQIO",
        "outputId": "1cd2259c-ab6a-4371-91b3-ede7b935c48f"
      },
      "source": [
        "arr1 = np.linspace(1,10)\r\n",
        "print(arr1)\r\n",
        "print(\"------------------------------------\")\r\n",
        "print(\"Size:\", arr1.size)"
      ],
      "execution_count": null,
      "outputs": [
        {
          "output_type": "stream",
          "text": [
            "[ 1.          1.18367347  1.36734694  1.55102041  1.73469388  1.91836735\n",
            "  2.10204082  2.28571429  2.46938776  2.65306122  2.83673469  3.02040816\n",
            "  3.20408163  3.3877551   3.57142857  3.75510204  3.93877551  4.12244898\n",
            "  4.30612245  4.48979592  4.67346939  4.85714286  5.04081633  5.2244898\n",
            "  5.40816327  5.59183673  5.7755102   5.95918367  6.14285714  6.32653061\n",
            "  6.51020408  6.69387755  6.87755102  7.06122449  7.24489796  7.42857143\n",
            "  7.6122449   7.79591837  7.97959184  8.16326531  8.34693878  8.53061224\n",
            "  8.71428571  8.89795918  9.08163265  9.26530612  9.44897959  9.63265306\n",
            "  9.81632653 10.        ]\n",
            "------------------------------------\n",
            "Size: 50\n"
          ],
          "name": "stdout"
        }
      ]
    },
    {
      "cell_type": "code",
      "metadata": {
        "colab": {
          "base_uri": "https://localhost:8080/"
        },
        "id": "5o5OhRd9uTfd",
        "outputId": "50348a01-dd4a-46ec-9322-56ee13d33e19"
      },
      "source": [
        "arr2 = np.linspace(1,20,num = 10)\r\n",
        "print(arr2)\r\n",
        "print(\"------------------------------------\")\r\n",
        "print(\"Size:\", arr2.size)"
      ],
      "execution_count": null,
      "outputs": [
        {
          "output_type": "stream",
          "text": [
            "[ 1.          3.11111111  5.22222222  7.33333333  9.44444444 11.55555556\n",
            " 13.66666667 15.77777778 17.88888889 20.        ]\n",
            "------------------------------------\n",
            "Size: 10\n"
          ],
          "name": "stdout"
        }
      ]
    },
    {
      "cell_type": "code",
      "metadata": {
        "colab": {
          "base_uri": "https://localhost:8080/"
        },
        "id": "GpEnvuFMu3hb",
        "outputId": "1952c5b4-889b-46ca-d7a8-6bef3aa87870"
      },
      "source": [
        "arr2 = np.linspace(1,10,num = 10, retstep=True)\r\n",
        "print(arr2)"
      ],
      "execution_count": null,
      "outputs": [
        {
          "output_type": "stream",
          "text": [
            "(array([ 1.,  2.,  3.,  4.,  5.,  6.,  7.,  8.,  9., 10.]), 1.0)\n"
          ],
          "name": "stdout"
        }
      ]
    },
    {
      "cell_type": "code",
      "metadata": {
        "colab": {
          "base_uri": "https://localhost:8080/"
        },
        "id": "QFPtSDZ-vgvY",
        "outputId": "9e848bbc-4641-4af1-bd05-9285f5b1c4cc"
      },
      "source": [
        "arr2 = np.linspace(1,19,num = 10, retstep=True)\r\n",
        "print(arr2)"
      ],
      "execution_count": null,
      "outputs": [
        {
          "output_type": "stream",
          "text": [
            "(array([ 1.,  3.,  5.,  7.,  9., 11., 13., 15., 17., 19.]), 2.0)\n"
          ],
          "name": "stdout"
        }
      ]
    },
    {
      "cell_type": "code",
      "metadata": {
        "colab": {
          "base_uri": "https://localhost:8080/"
        },
        "id": "R5wZoip6w4tn",
        "outputId": "e25d362e-7a5d-41f7-c65f-2f3aa5588858"
      },
      "source": [
        "arr2 = np.linspace(0,20,num = 11, retstep = True)\r\n",
        "print(arr2)"
      ],
      "execution_count": null,
      "outputs": [
        {
          "output_type": "stream",
          "text": [
            "(array([ 0.,  2.,  4.,  6.,  8., 10., 12., 14., 16., 18., 20.]), 2.0)\n"
          ],
          "name": "stdout"
        }
      ]
    },
    {
      "cell_type": "code",
      "metadata": {
        "colab": {
          "base_uri": "https://localhost:8080/"
        },
        "id": "pvrGqNtsARxw",
        "outputId": "8eade61e-b68f-44ad-d1da-c3bd70e15399"
      },
      "source": [
        "arr2 = np.linspace(start=0, stop=20, num=11, retstep=True)\r\n",
        "print(arr2)"
      ],
      "execution_count": null,
      "outputs": [
        {
          "output_type": "stream",
          "text": [
            "(array([ 0.,  2.,  4.,  6.,  8., 10., 12., 14., 16., 18., 20.]), 2.0)\n"
          ],
          "name": "stdout"
        }
      ]
    },
    {
      "cell_type": "markdown",
      "metadata": {
        "id": "LZUywu26Af-D"
      },
      "source": [
        "np.linspace() works on the principle of Arithmatic Progression\r\n",
        "*   **a + (n-1)d = l**\r\n",
        "*   compare with **start + (num-1) x retstep = stop**"
      ]
    },
    {
      "cell_type": "code",
      "metadata": {
        "colab": {
          "base_uri": "https://localhost:8080/"
        },
        "id": "H8M1v9b8BJIb",
        "outputId": "676300c1-f89b-4be8-a3a6-e0b786073fd8"
      },
      "source": [
        "arr2 = np.linspace(start=0.5, stop=2.3, num=11, retstep=True)\r\n",
        "print(arr2)"
      ],
      "execution_count": null,
      "outputs": [
        {
          "output_type": "stream",
          "text": [
            "(array([0.5 , 0.68, 0.86, 1.04, 1.22, 1.4 , 1.58, 1.76, 1.94, 2.12, 2.3 ]), 0.18)\n"
          ],
          "name": "stdout"
        }
      ]
    },
    {
      "cell_type": "markdown",
      "metadata": {
        "id": "tCrRi-AkCriq"
      },
      "source": [
        "#### Creating an Array with np.random.rand()\r\n",
        "\r\n",
        "\r\n",
        "1.   rand() returns an array with random numbers less than 1 with a given shape\r\n",
        "2.   randn() returns an array with random numbers which are both positive and negative with a given shape\r\n",
        "\r\n"
      ]
    },
    {
      "cell_type": "code",
      "metadata": {
        "colab": {
          "base_uri": "https://localhost:8080/"
        },
        "id": "vaPx_hWuDHo3",
        "outputId": "93a4d5a9-9eb2-4641-ac6a-89cfa79da347"
      },
      "source": [
        "arr1 = np.random.rand(3)\r\n",
        "print(arr1)\r\n",
        "print(\"Shape:\", arr1.shape)\r\n",
        "print(\"Dimensions:\", arr1.ndim)"
      ],
      "execution_count": null,
      "outputs": [
        {
          "output_type": "stream",
          "text": [
            "[0.74439276 0.7985642  0.88598418]\n",
            "Shape: (3,)\n",
            "Dimensions: 1\n"
          ],
          "name": "stdout"
        }
      ]
    },
    {
      "cell_type": "code",
      "metadata": {
        "colab": {
          "base_uri": "https://localhost:8080/"
        },
        "id": "TGKOb_ANDZeN",
        "outputId": "ed7cbd6b-6ccf-43db-804b-52333138b7ca"
      },
      "source": [
        "arr2= np.random.rand(3,2)\r\n",
        "print(arr2)\r\n",
        "print(\"Shape:\", arr2.shape)\r\n",
        "print(\"Dimensions:\", arr2.ndim)"
      ],
      "execution_count": null,
      "outputs": [
        {
          "output_type": "stream",
          "text": [
            "[[0.3591938  0.59702096]\n",
            " [0.42186852 0.67580996]\n",
            " [0.32101468 0.52863639]]\n",
            "Shape: (3, 2)\n",
            "Dimensions: 2\n"
          ],
          "name": "stdout"
        }
      ]
    },
    {
      "cell_type": "code",
      "metadata": {
        "colab": {
          "base_uri": "https://localhost:8080/"
        },
        "id": "4bCYcgrODkeG",
        "outputId": "ee917c85-3240-4c3c-c7e3-70f515b5dc0b"
      },
      "source": [
        "arr3 = np.random.rand(4,3,5)\r\n",
        "print(arr3)\r\n",
        "print(\"Shape:\", arr3.shape)\r\n",
        "print(\"Dimensions:\", arr3.ndim)"
      ],
      "execution_count": null,
      "outputs": [
        {
          "output_type": "stream",
          "text": [
            "[[[0.63903141 0.88193967 0.6426634  0.45894904 0.68503996]\n",
            "  [0.84205936 0.45412548 0.77514565 0.93462604 0.40690305]\n",
            "  [0.02459774 0.01394284 0.50146462 0.46058075 0.44695663]]\n",
            "\n",
            " [[0.23630714 0.65901045 0.72521673 0.3172857  0.18400302]\n",
            "  [0.99450176 0.56872321 0.22439213 0.222066   0.4042872 ]\n",
            "  [0.21229145 0.82583105 0.92972669 0.08241002 0.83971397]]\n",
            "\n",
            " [[0.26517483 0.58742876 0.16018487 0.89557521 0.07834965]\n",
            "  [0.66459282 0.29084688 0.5352894  0.38465239 0.3425014 ]\n",
            "  [0.5455989  0.73061251 0.31685854 0.52979612 0.23681392]]\n",
            "\n",
            " [[0.7997342  0.60466125 0.34826229 0.6665379  0.86051909]\n",
            "  [0.41237553 0.90425667 0.11121675 0.82284396 0.25203679]\n",
            "  [0.7373598  0.81239811 0.09605235 0.88074282 0.75449886]]]\n",
            "Shape: (4, 3, 5)\n",
            "Dimensions: 3\n"
          ],
          "name": "stdout"
        }
      ]
    },
    {
      "cell_type": "markdown",
      "metadata": {
        "id": "sx-nWe3qDxkX"
      },
      "source": [
        "#### Creating an Array with np.random.randint()\r\n",
        "*   it takes three arguments low, high, shape\r\n",
        "*   it returns an array with the given shape and numbers between low(included) and high(excluded)"
      ]
    },
    {
      "cell_type": "code",
      "metadata": {
        "colab": {
          "base_uri": "https://localhost:8080/"
        },
        "id": "vbmxZ_ycE5kc",
        "outputId": "324df90d-0723-4f7a-c752-290848bb92b4"
      },
      "source": [
        "arr1 = np.random.randint(10,20,(3,4,5))\r\n",
        "print(arr1)\r\n",
        "print(\"Shape:\", arr1.shape)"
      ],
      "execution_count": null,
      "outputs": [
        {
          "output_type": "stream",
          "text": [
            "[[[13 15 16 16 10]\n",
            "  [13 16 16 15 17]\n",
            "  [19 19 13 12 18]\n",
            "  [14 19 14 10 19]]\n",
            "\n",
            " [[10 13 18 12 12]\n",
            "  [16 11 15 17 12]\n",
            "  [17 19 16 14 10]\n",
            "  [14 13 10 17 19]]\n",
            "\n",
            " [[10 18 13 11 19]\n",
            "  [13 13 12 17 19]\n",
            "  [11 14 13 11 14]\n",
            "  [15 18 10 17 19]]]\n",
            "Shape: (3, 4, 5)\n"
          ],
          "name": "stdout"
        }
      ]
    },
    {
      "cell_type": "code",
      "metadata": {
        "colab": {
          "base_uri": "https://localhost:8080/"
        },
        "id": "5atuTcJoFG32",
        "outputId": "462d42d5-1b92-4cfe-e30e-e7820513c2d8"
      },
      "source": [
        "arr1 = np.random.randint(0,20,(2,4,4,5))\r\n",
        "print(arr1)\r\n",
        "print(\"Shape:\", arr1.shape)"
      ],
      "execution_count": null,
      "outputs": [
        {
          "output_type": "stream",
          "text": [
            "[[[[18 12  4 16 11]\n",
            "   [15  6 19  1 12]\n",
            "   [11  0  9 18  7]\n",
            "   [ 4  5 10 13  5]]\n",
            "\n",
            "  [[10 13  8 13  6]\n",
            "   [ 1  3 19 14  8]\n",
            "   [ 8  4  0 13  2]\n",
            "   [13  1 17 16 13]]\n",
            "\n",
            "  [[14  3  3 19  0]\n",
            "   [11  5 14 18 15]\n",
            "   [ 3 13  0  2  4]\n",
            "   [ 1  3 15 14  6]]\n",
            "\n",
            "  [[11 16  7  3  7]\n",
            "   [18 18 17 10 11]\n",
            "   [10  5  5 14  0]\n",
            "   [18 12  5 10 14]]]\n",
            "\n",
            "\n",
            " [[[ 3  4 10 11 18]\n",
            "   [10  8 13 13 13]\n",
            "   [17  4 18  6  1]\n",
            "   [10 15  0  9  9]]\n",
            "\n",
            "  [[13 12  2 12  3]\n",
            "   [11 15 10 12 19]\n",
            "   [12  5 14 19 11]\n",
            "   [12 18  0  4 17]]\n",
            "\n",
            "  [[ 6  4  2  2  3]\n",
            "   [ 0 18 16  4  4]\n",
            "   [ 6 12 17  0  3]\n",
            "   [19  5  3  9  2]]\n",
            "\n",
            "  [[19  5 18 16  4]\n",
            "   [ 9 13  5  9  9]\n",
            "   [ 0  2 14  6 15]\n",
            "   [15  8 14  2 14]]]]\n",
            "Shape: (2, 4, 4, 5)\n"
          ],
          "name": "stdout"
        }
      ]
    },
    {
      "cell_type": "markdown",
      "metadata": {
        "id": "LMyR-TBnFgz9"
      },
      "source": [
        "#### Creating an Array with np.random.choice()"
      ]
    },
    {
      "cell_type": "code",
      "metadata": {
        "colab": {
          "base_uri": "https://localhost:8080/"
        },
        "id": "TmLKi582FyXh",
        "outputId": "c7b86101-15d3-431f-afcc-6c28e115d341"
      },
      "source": [
        "arr1 = np.arange(10,15)\r\n",
        "print(arr1)"
      ],
      "execution_count": null,
      "outputs": [
        {
          "output_type": "stream",
          "text": [
            "[10 11 12 13 14]\n"
          ],
          "name": "stdout"
        }
      ]
    },
    {
      "cell_type": "code",
      "metadata": {
        "colab": {
          "base_uri": "https://localhost:8080/"
        },
        "id": "H5xlT-bCF3Ky",
        "outputId": "f62f08c0-5053-4e66-9b8e-a677263476e6"
      },
      "source": [
        "arr2 = np.random.choice(arr1, size = (4,5), p = [0.3,0.1,0.2,0.1,0.3])\r\n",
        "print(arr2)"
      ],
      "execution_count": null,
      "outputs": [
        {
          "output_type": "stream",
          "text": [
            "[[12 12 12 13 14]\n",
            " [14 11 12 14 14]\n",
            " [12 12 12 14 11]\n",
            " [12 12 10 14 14]]\n"
          ],
          "name": "stdout"
        }
      ]
    },
    {
      "cell_type": "code",
      "metadata": {
        "colab": {
          "base_uri": "https://localhost:8080/"
        },
        "id": "FNPlp33FHwhe",
        "outputId": "2563b451-de9a-49fe-f555-d9e7f8414e13"
      },
      "source": [
        "arr2 = np.random.choice(arr1, size = (3,4,5), p = [0.3,0.1,0.2,0.1,0.3])\r\n",
        "print(arr2)"
      ],
      "execution_count": null,
      "outputs": [
        {
          "output_type": "stream",
          "text": [
            "[[[12 12 12 10 10]\n",
            "  [14 14 10 10 10]\n",
            "  [10 11 14 10 14]\n",
            "  [14 12 10 13 11]]\n",
            "\n",
            " [[10 10 14 14 13]\n",
            "  [10 10 10 12 14]\n",
            "  [11 14 14 10 11]\n",
            "  [14 11 11 13 10]]\n",
            "\n",
            " [[14 10 11 13 10]\n",
            "  [10 10 14 14 12]\n",
            "  [10 10 14 10 10]\n",
            "  [14 14 14 12 12]]]\n"
          ],
          "name": "stdout"
        }
      ]
    },
    {
      "cell_type": "code",
      "metadata": {
        "colab": {
          "base_uri": "https://localhost:8080/"
        },
        "id": "1f2pxMimH2ET",
        "outputId": "8f6fc371-81ea-42a7-9c56-3bebb8a865b1"
      },
      "source": [
        "arr2 = np.random.choice(arr1, size = (3,2,4,5), p = [0.3,0.1,0.2,0.1,0.3])\r\n",
        "print(arr2)"
      ],
      "execution_count": null,
      "outputs": [
        {
          "output_type": "stream",
          "text": [
            "[[[[10 12 11 10 12]\n",
            "   [14 11 14 14 13]\n",
            "   [14 10 13 10 12]\n",
            "   [14 11 12 10 12]]\n",
            "\n",
            "  [[13 14 12 10 14]\n",
            "   [10 14 10 11 14]\n",
            "   [14 14 12 11 10]\n",
            "   [14 13 14 12 14]]]\n",
            "\n",
            "\n",
            " [[[10 12 10 13 11]\n",
            "   [12 12 14 10 13]\n",
            "   [13 10 14 14 11]\n",
            "   [14 10 14 14 10]]\n",
            "\n",
            "  [[10 10 10 14 10]\n",
            "   [10 12 10 14 10]\n",
            "   [12 14 14 12 10]\n",
            "   [10 14 10 10 10]]]\n",
            "\n",
            "\n",
            " [[[11 12 11 12 11]\n",
            "   [14 14 14 11 14]\n",
            "   [14 10 12 14 10]\n",
            "   [10 10 14 12 11]]\n",
            "\n",
            "  [[10 14 11 14 10]\n",
            "   [10 13 14 10 14]\n",
            "   [11 12 13 14 14]\n",
            "   [10 13 12 10 14]]]]\n"
          ],
          "name": "stdout"
        }
      ]
    },
    {
      "cell_type": "markdown",
      "metadata": {
        "id": "VBX0G2h-H-7V"
      },
      "source": [
        "**Note:** *choice() takes only 1-D Array as input*"
      ]
    }
  ]
}